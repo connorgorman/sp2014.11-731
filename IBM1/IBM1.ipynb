{
 "metadata": {
  "name": "",
  "signature": "sha256:73e563ad7d21f96a26430a222bf166c8851508523fe538a3d38abcca243df207"
 },
 "nbformat": 3,
 "nbformat_minor": 0,
 "worksheets": [
  {
   "cells": [
    {
     "cell_type": "code",
     "collapsed": false,
     "input": [
      "import os, sys\n",
      "import numpy as np\n"
     ],
     "language": "python",
     "metadata": {},
     "outputs": [],
     "prompt_number": 7
    },
    {
     "cell_type": "code",
     "collapsed": false,
     "input": [
      "def printMap(t_map):\n",
      "    \n",
      "    for key, value in t_map.iteritems() :\n",
      "        print key[0], \" \", key[1], \"  -   \", value\n",
      "        "
     ],
     "language": "python",
     "metadata": {},
     "outputs": [],
     "prompt_number": 12
    },
    {
     "cell_type": "code",
     "collapsed": false,
     "input": [
      "e_set = [ [\"the\", \"house\"], [\"the\",\"book\"], [\"a\", \"book\"],[\"a\", \"house\"] ]\n",
      "f_set = [ [\"das\", \"haus\" ], [\"das\", \"buch\"], [\"ein\", \"buch\"], [\"ein\", \"haus\"] ]\n",
      "\n",
      "t_e_f = {}\n",
      "\n",
      "e_vocab = []\n",
      "for e_sent in e_set:\n",
      "    e_vocab.extend(e_sent)\n",
      "\n",
      "e_vocab = set(e_vocab)\n",
      "    \n",
      "f_vocab = []\n",
      "for f_sent in f_set:\n",
      "    f_vocab.extend(f_sent)\n",
      "\n",
      "f_vocab = set(f_vocab)\n",
      "\n",
      "total_size = len(e_vocab) * len(f_vocab)\n",
      "\n",
      "for e_idx, e_val in enumerate(e_vocab):\n",
      "    for f_idx, f_val in enumerate(f_vocab):\n",
      "        t_e_f[(e_val, f_val)] = 1 / (float(total_size))\n",
      "\n",
      "\n",
      "iterations = 100\n",
      "\n",
      "for iteration in range(0, iterations):\n",
      "    \n",
      "    count = {}\n",
      "    for e_idx, e_val in enumerate(e_vocab):\n",
      "        for f_idx, f_val in enumerate(f_vocab):\n",
      "            count[(e_val, f_val)] = 0.0\n",
      "                \n",
      "    total_f = {}\n",
      "    for f_idx, f_val in enumerate(f_vocab):\n",
      "        total_f[f_val] = 0.0;\n",
      "    \n",
      "    for sent_idx, _ in enumerate(e_set):\n",
      "        \n",
      "        e_sent = e_set[sent_idx]\n",
      "        f_sent = f_set[sent_idx]\n",
      "        \n",
      "        s_total = np.zeros( len(e_sent) )\n",
      "        \n",
      "        for e_idx, e_word in enumerate(e_sent):\n",
      "            for f_idx, f_word in enumerate(f_sent):\n",
      "                s_total[e_idx] += t_e_f[(e_word, f_word)]\n",
      "        \n",
      "        for e_idx, e_word in enumerate(e_sent):\n",
      "            for f_idx, f_word in enumerate(f_sent):\n",
      "                index_tuple = (e_word, f_word)\n",
      "                \n",
      "                count[index_tuple] += t_e_f[index_tuple] / s_total[e_idx]\n",
      "                total_f[f_word] += t_e_f[index_tuple] / s_total[e_idx]\n",
      "    \n",
      "    for f_idx, f_word in enumerate(f_vocab):\n",
      "        for e_idx, e_word in enumerate(e_vocab):\n",
      "            index_tuple = (e_word, f_word)\n",
      "            \n",
      "            t_e_f[index_tuple] = count[index_tuple] / total_f[f_word]\n",
      "        \n",
      "printMap(t_e_f)\n",
      "    \n",
      "        "
     ],
     "language": "python",
     "metadata": {},
     "outputs": [
      {
       "output_type": "stream",
       "stream": "stdout",
       "text": [
        "house   haus   -    1.0\n",
        "book   ein   -    7.88860905221e-31\n",
        "house   buch   -    0.0\n",
        "book   haus   -    0.0\n",
        "a   haus   -    7.88860905221e-31\n",
        "house   das   -    7.88860905221e-31\n",
        "the   ein   -    0.0\n",
        "the   das   -    1.0\n",
        "book   buch   -    1.0\n",
        "a   ein   -    1.0\n",
        "house   ein   -    7.88860905221e-31\n",
        "book   das   -    7.88860905221e-31\n",
        "the   haus   -    7.88860905221e-31\n",
        "the   buch   -    7.88860905221e-31\n",
        "a   buch   -    7.88860905221e-31\n",
        "a   das   -    0.0\n"
       ]
      }
     ],
     "prompt_number": 16
    },
    {
     "cell_type": "code",
     "collapsed": false,
     "input": [],
     "language": "python",
     "metadata": {},
     "outputs": []
    },
    {
     "cell_type": "code",
     "collapsed": false,
     "input": [
      " "
     ],
     "language": "python",
     "metadata": {},
     "outputs": [],
     "prompt_number": 2
    }
   ],
   "metadata": {}
  }
 ]
}