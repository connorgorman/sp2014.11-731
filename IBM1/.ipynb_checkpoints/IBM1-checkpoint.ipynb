{
 "metadata": {
  "name": "",
  "signature": "sha256:e53846a4047306ed37e9e03cc2ac3b6d7aa0aff0e5d86dbe9e3dd55175b47ac7"
 },
 "nbformat": 3,
 "nbformat_minor": 0,
 "worksheets": [
  {
   "cells": [
    {
     "cell_type": "code",
     "collapsed": false,
     "input": [
      "import os, sys\n",
      "import numpy as np\n"
     ],
     "language": "python",
     "metadata": {},
     "outputs": [],
     "prompt_number": 1
    },
    {
     "cell_type": "code",
     "collapsed": false,
     "input": [
      "content = [x.strip('\\n') for x in open(\"dev-test-train.de-en\").readlines()]\n",
      "\n",
      "e_set = []\n",
      "f_set = []\n",
      "\n",
      "for line in content:\n",
      "    split = line.split(\"|||\")\n",
      "    \n",
      "    f_set.append( [x for x in split[0].split(\" \") if x != '' and x != \"\"] )\n",
      "    e_set.append( [x for x in split[1].split(\" \") if x != '' and x != \"\"] )\n",
      "\n",
      "\n",
      "t_e_f = {}\n",
      "\n",
      "e_vocab = []\n",
      "for e_sent in e_set:\n",
      "    e_vocab.extend(e_sent)\n",
      "\n",
      "e_vocab = set(e_vocab)\n",
      "    \n",
      "f_vocab = []\n",
      "for f_sent in f_set:\n",
      "    f_vocab.extend(f_sent)\n",
      "\n",
      "f_vocab = set(f_vocab)\n",
      "\n",
      "total_size = len(e_vocab) * len(f_vocab)\n"
     ],
     "language": "python",
     "metadata": {},
     "outputs": [],
     "prompt_number": 25
    },
    {
     "cell_type": "code",
     "collapsed": false,
     "input": [
      "print len(e_vocab)\n",
      "print len(f_vocab)\n",
      "\n",
      "def printMap(t_map):\n",
      "    \n",
      "    for key, value in t_map.iteritems() :\n",
      "        print key[0], \" \", key[1], \"  -   \", value\n",
      "        "
     ],
     "language": "python",
     "metadata": {},
     "outputs": [
      {
       "output_type": "stream",
       "stream": "stdout",
       "text": [
        "38319\n",
        "84951\n"
       ]
      }
     ],
     "prompt_number": 28
    },
    {
     "cell_type": "code",
     "collapsed": false,
     "input": [
      "e_set = [ [\"the\", \"house\"], [\"the\",\"book\"], [\"a\", \"book\"],[\"a\", \"house\"] ]\n",
      "f_set = [ [\"das\", \"haus\" ], [\"das\", \"buch\"], [\"ein\", \"buch\"], [\"ein\", \"haus\"] ]\n",
      "\n",
      "for e_idx, e_val in enumerate(e_vocab):\n",
      "    for f_idx, f_val in enumerate(f_vocab):\n",
      "        t_e_f[(e_val, f_val)] = 1 / (float(total_size))\n",
      "\n",
      "sent_limit = len(e_set) \n",
      "sent_limit = 1000\n",
      "    \n",
      "print \"Starting Iterations\"\n",
      "    \n",
      "iterations = 5\n",
      "for iteration in range(0, iterations):\n",
      "    \n",
      "    count = {}\n",
      "    total_f = {}\n",
      "\n",
      "    for e_idx, e_val in enumerate(e_vocab):\n",
      "        for f_idx, f_val in enumerate(f_vocab):\n",
      "            count[(e_val, f_val)] = 0.0\n",
      "            \n",
      "            if e_idx == 0:\n",
      "                total_f[f_val] = 0.0;\n",
      "                \n",
      "    for sent_idx in range(0, sent_limit):\n",
      "        \n",
      "        e_sent = e_set[sent_idx]\n",
      "        f_sent = f_set[sent_idx]\n",
      "        \n",
      "        s_total = np.zeros( len(e_sent) )\n",
      "        \n",
      "        for e_idx, e_word in enumerate(e_sent):\n",
      "            for f_idx, f_word in enumerate(f_sent):\n",
      "                s_total[e_idx] += t_e_f[(e_word, f_word)]\n",
      "        \n",
      "        for e_idx, e_word in enumerate(e_sent):\n",
      "            for f_idx, f_word in enumerate(f_sent):\n",
      "                index_tuple = (e_word, f_word)\n",
      "                \n",
      "                count[index_tuple] += t_e_f[index_tuple] / s_total[e_idx]\n",
      "                total_f[f_word] += t_e_f[index_tuple] / s_total[e_idx]\n",
      "    \n",
      "    for f_idx, f_word in enumerate(f_vocab):\n",
      "        for e_idx, e_word in enumerate(e_vocab):\n",
      "            index_tuple = (e_word, f_word)\n",
      "            \n",
      "            t_e_f[index_tuple] = count[index_tuple] / total_f[f_word]\n",
      "        \n",
      "# printMap(t_e_f)\n",
      "    \n",
      "        "
     ],
     "language": "python",
     "metadata": {},
     "outputs": [
      {
       "ename": "KeyboardInterrupt",
       "evalue": "",
       "output_type": "pyerr",
       "traceback": [
        "\u001b[1;31m---------------------------------------------------------------------------\u001b[0m\n\u001b[1;31mKeyboardInterrupt\u001b[0m                         Traceback (most recent call last)",
        "\u001b[1;32m<ipython-input-30-d7873505c311>\u001b[0m in \u001b[0;36m<module>\u001b[1;34m()\u001b[0m\n\u001b[0;32m      6\u001b[0m \u001b[1;32mfor\u001b[0m \u001b[0me_idx\u001b[0m\u001b[1;33m,\u001b[0m \u001b[0me_val\u001b[0m \u001b[1;32min\u001b[0m \u001b[0menumerate\u001b[0m\u001b[1;33m(\u001b[0m\u001b[0me_vocab\u001b[0m\u001b[1;33m)\u001b[0m\u001b[1;33m:\u001b[0m\u001b[1;33m\u001b[0m\u001b[0m\n\u001b[0;32m      7\u001b[0m     \u001b[1;32mfor\u001b[0m \u001b[0mf_idx\u001b[0m\u001b[1;33m,\u001b[0m \u001b[0mf_val\u001b[0m \u001b[1;32min\u001b[0m \u001b[0menumerate\u001b[0m\u001b[1;33m(\u001b[0m\u001b[0mf_vocab\u001b[0m\u001b[1;33m)\u001b[0m\u001b[1;33m:\u001b[0m\u001b[1;33m\u001b[0m\u001b[0m\n\u001b[1;32m----> 8\u001b[1;33m         \u001b[0mt_e_f\u001b[0m\u001b[1;33m[\u001b[0m\u001b[1;33m(\u001b[0m\u001b[0me_val\u001b[0m\u001b[1;33m,\u001b[0m \u001b[0mf_val\u001b[0m\u001b[1;33m)\u001b[0m\u001b[1;33m]\u001b[0m \u001b[1;33m=\u001b[0m \u001b[1;36m1\u001b[0m \u001b[1;33m/\u001b[0m \u001b[1;33m(\u001b[0m\u001b[0mfloat\u001b[0m\u001b[1;33m(\u001b[0m\u001b[0mtotal_size\u001b[0m\u001b[1;33m)\u001b[0m\u001b[1;33m)\u001b[0m\u001b[1;33m\u001b[0m\u001b[0m\n\u001b[0m\u001b[0;32m      9\u001b[0m \u001b[1;33m\u001b[0m\u001b[0m\n\u001b[0;32m     10\u001b[0m \u001b[0msent_limit\u001b[0m \u001b[1;33m=\u001b[0m \u001b[0mlen\u001b[0m\u001b[1;33m(\u001b[0m\u001b[0me_set\u001b[0m\u001b[1;33m)\u001b[0m\u001b[1;33m\u001b[0m\u001b[0m\n",
        "\u001b[1;31mKeyboardInterrupt\u001b[0m: "
       ]
      }
     ],
     "prompt_number": 30
    },
    {
     "cell_type": "code",
     "collapsed": false,
     "input": [],
     "language": "python",
     "metadata": {},
     "outputs": []
    },
    {
     "cell_type": "code",
     "collapsed": false,
     "input": [
      " "
     ],
     "language": "python",
     "metadata": {},
     "outputs": [],
     "prompt_number": 2
    }
   ],
   "metadata": {}
  }
 ]
}